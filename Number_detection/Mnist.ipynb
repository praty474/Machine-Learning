{
 "cells": [
  {
   "cell_type": "code",
   "execution_count": 36,
   "id": "6616f1cf-f3a1-45cd-8529-ab88e14b92d9",
   "metadata": {},
   "outputs": [],
   "source": [
    "import torch\n",
    "import torch.nn as nn\n",
    "from torchvision import datasets, transforms\n",
    "from torch.utils.data import DataLoader\n",
    "import matplotlib.pyplot as plt\n",
    "import torch.optim as optim"
   ]
  },
  {
   "cell_type": "code",
   "execution_count": 37,
   "id": "a4bab797-ffbc-44fa-a06e-1d9013d96171",
   "metadata": {},
   "outputs": [],
   "source": [
    "transform = transforms.ToTensor()"
   ]
  },
  {
   "cell_type": "code",
   "execution_count": 38,
   "id": "75285245-8d23-42b4-90e4-c9f31ed4ba85",
   "metadata": {},
   "outputs": [],
   "source": [
    "train_data = datasets.MNIST(root='data', train=True, download =True, transform=transform)\n",
    "test_data = datasets.MNIST(root='data', train=False, download =True, transform=transform)"
   ]
  },
  {
   "cell_type": "code",
   "execution_count": 39,
   "id": "2ec4934e-f95c-46cb-9990-3982c06699eb",
   "metadata": {},
   "outputs": [],
   "source": [
    "train_loader  =DataLoader(train_data, batch_size=32, shuffle =True)\n",
    "test_loader  =DataLoader(test_data, batch_size=32, shuffle =True)"
   ]
  },
  {
   "cell_type": "code",
   "execution_count": 40,
   "id": "8ae64c91-fbe3-492d-9ee9-62a7f16f5bc7",
   "metadata": {},
   "outputs": [],
   "source": [
    "images, labels = next(iter(train_loader))"
   ]
  },
  {
   "cell_type": "code",
   "execution_count": 41,
   "id": "74249605-e5c7-405e-839e-66346671944b",
   "metadata": {},
   "outputs": [
    {
     "data": {
      "image/png": "[encoded data removed]",
      "text/plain": [
       "<Figure size 800x400 with 8 Axes>"
      ]
     },
     "metadata": {},
     "output_type": "display_data"
    }
   ],
   "source": [
    "plt.figure(figsize = (8,4))\n",
    "for i in range(8):\n",
    "    plt.subplot(2,4, i+1)\n",
    "    plt.imshow(images[i].squeeze(), cmap='grey')\n",
    "    plt.title(f\"original label: {labels[i].item()}\")\n",
    "    plt.axis('off')\n",
    "plt.tight_layout()\n",
    "plt.show()"
   ]
  },
  {
   "cell_type": "code",
   "execution_count": 50,
   "id": "c9f7ac85-36b6-4434-a73a-bf9891cc443a",
   "metadata": {},
   "outputs": [],
   "source": [
    "class MLP(nn.Module):\n",
    "    def __init__(self):\n",
    "        super(MLP, self).__init__()\n",
    "        self.net = nn.Sequential(\n",
    "            nn.Flatten(),\n",
    "            nn.Linear(784, 392),\n",
    "            nn.ReLU(),\n",
    "            nn.Linear(392, 196),\n",
    "            nn.ReLU(),\n",
    "            nn.Linear(196,98),\n",
    "            nn.ReLU(),\n",
    "            nn.Linear(98,10)\n",
    "        )\n",
    "    def forward(self,x):\n",
    "        return self.net(x)"
   ]
  },
  {
   "cell_type": "code",
   "execution_count": 51,
   "id": "655b5b82-bdbe-4074-9b88-901678288749",
   "metadata": {},
   "outputs": [
    {
     "name": "stdout",
     "output_type": "stream",
     "text": [
      "MLP(\n",
      "  (net): Sequential(\n",
      "    (0): Flatten(start_dim=1, end_dim=-1)\n",
      "    (1): Linear(in_features=784, out_features=392, bias=True)\n",
      "    (2): ReLU()\n",
      "    (3): Linear(in_features=392, out_features=196, bias=True)\n",
      "    (4): ReLU()\n",
      "    (5): Linear(in_features=196, out_features=98, bias=True)\n",
      "    (6): ReLU()\n",
      "    (7): Linear(in_features=98, out_features=10, bias=True)\n",
      "  )\n",
      ")\n"
     ]
    }
   ],
   "source": [
    "model = MLP()\n",
    "print(model)"
   ]
  },
  {
   "cell_type": "code",
   "execution_count": 52,
   "id": "51a04ff0-0d44-432e-8821-f403488d5fb4",
   "metadata": {},
   "outputs": [],
   "source": [
    "images, labels = next(iter(train_loader))"
   ]
  },
  {
   "cell_type": "code",
   "execution_count": 53,
   "id": "16503293-419c-42c6-a027-4b744de22fd9",
   "metadata": {},
   "outputs": [],
   "source": [
    "outputs =model(images)"
   ]
  },
  {
   "cell_type": "code",
   "execution_count": 54,
   "id": "0bcdb6a2-83ed-4ff1-b20f-d6c08148560d",
   "metadata": {},
   "outputs": [
    {
     "name": "stdout",
     "output_type": "stream",
     "text": [
      "output shape: torch.Size([32, 10])\n",
      "sample output (logits):\n",
      "tensor([-0.1247, -0.0285,  0.0084,  0.0637, -0.0843, -0.0259,  0.0242,  0.0534,\n",
      "        -0.0599,  0.0289], grad_fn=<SelectBackward0>)\n"
     ]
    }
   ],
   "source": [
    "print(\"output shape:\", outputs.shape)\n",
    "print(\"sample output (logits):\") \n",
    "print(outputs[0])"
   ]
  },
  {
   "cell_type": "code",
   "execution_count": 55,
   "id": "1d2b6b1f-acec-4d6f-ba18-760943af0d83",
   "metadata": {},
   "outputs": [
    {
     "name": "stdout",
     "output_type": "stream",
     "text": [
      "predicted: [3, 7, 3, 7, 7]\n",
      "actual: [7, 6, 1, 7, 6]\n"
     ]
    }
   ],
   "source": [
    "predicted = torch.argmax(outputs, dim=1)\n",
    "print(\"predicted:\", predicted[:5].tolist())\n",
    "print(\"actual:\", labels[:5].tolist())"
   ]
  },
  {
   "cell_type": "code",
   "execution_count": 56,
   "id": "29d4cdc2-d604-4684-bab8-3ee85221aa48",
   "metadata": {},
   "outputs": [],
   "source": [
    "loss_fn = nn.CrossEntropyLoss()\n",
    "optimizer = optim.Adam(model.parameters(), lr=0.001)"
   ]
  },
  {
   "cell_type": "code",
   "execution_count": null,
   "id": "df00f50e-c73c-4d47-b1ea-512e49184e10",
   "metadata": {},
   "outputs": [
    {
     "name": "stdout",
     "output_type": "stream",
     "text": [
      "Epoch 1 - Loss: 0.0328, Accuracy: 99.01%\n",
      "Epoch 2 - Loss: 0.0289, Accuracy: 99.11%\n",
      "Epoch 3 - Loss: 0.0245, Accuracy: 99.21%\n",
      "Epoch 4 - Loss: 0.0233, Accuracy: 99.27%\n"
     ]
    }
   ],
   "source": [
    "epochs = 6\n",
    "for epoch in range(epochs):\n",
    "    running_loss = 0\n",
    "    correct = 0\n",
    "    total = 0\n",
    "\n",
    "    model.train()\n",
    "    for images, labels in train_loader:\n",
    "        # forward pass\n",
    "        outputs = model(images)\n",
    "        loss = loss_fn(outputs, labels)\n",
    "\n",
    "        # backpropagation\n",
    "        optimizer.zero_grad()     # Clear previous gradients\n",
    "        loss.backward()           # Compute new gradients\n",
    "        optimizer.step()          # Update weights\n",
    "\n",
    "        # Track loss and accuracy\n",
    "        running_loss += loss.item()\n",
    "        _, predicted = torch.max(outputs, 1)\n",
    "        correct += (predicted == labels).sum().item()\n",
    "        total += labels.size(0)\n",
    "        \n",
    "    avg_loss = running_loss / len(train_loader)\n",
    "    accuracy = 100 * correct / total\n",
    "    print(f\"Epoch {epoch+1} - Loss: {avg_loss:.4f}, Accuracy: {accuracy:.2f}%\")\n"
   ]
  },
  {
   "cell_type": "code",
   "execution_count": 15,
   "id": "36a0bb2a-1c63-4156-9d77-52d2070612e9",
   "metadata": {},
   "outputs": [
    {
     "name": "stdout",
     "output_type": "stream",
     "text": [
      "test accuracy: 97.42%\n"
     ]
    }
   ],
   "source": [
    "model.eval()\n",
    "correct = 0 \n",
    "total = 0\n",
    "\n",
    "with torch.no_grad():\n",
    "    for images, labels in test_loader:\n",
    "        outputs = model(images)\n",
    "        _, predicted = torch.max(outputs,1)\n",
    "        correct += (predicted == labels).sum().item()\n",
    "        total += labels.size(0)\n",
    "print(f\"test accuracy: {100 * correct /total:.2f}%\")"
   ]
  },
  {
   "cell_type": "code",
   "execution_count": null,
   "id": "5ebaf20a-881e-4f01-a80a-b575ebccb298",
   "metadata": {},
   "outputs": [],
   "source": []
  }
 ],
 "metadata": {
  "kernelspec": {
   "display_name": "Python 3 (ipykernel)",
   "language": "python",
   "name": "python3"
  },
  "language_info": {
   "codemirror_mode": {
    "name": "ipython",
    "version": 3
   },
   "file_extension": ".py",
   "mimetype": "text/x-python",
   "name": "python",
   "nbconvert_exporter": "python",
   "pygments_lexer": "ipython3",
   "version": "3.12.4"
  }
 },
 "nbformat": 4,
 "nbformat_minor": 5
}
